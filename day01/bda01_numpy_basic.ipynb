{
 "cells": [
  {
   "cell_type": "markdown",
   "metadata": {},
   "source": [
    "### Numpy 기초\n",
    "- 수치 해석, 수학적 계산을 목적으로 한 라이브러리, 수치해석 최적화\n",
    "\n",
    "#### Numpy 설치\n",
    "```shell\n",
    "!pip install [update] numpy\n",
    "```"
   ]
  },
  {
   "cell_type": "code",
   "execution_count": 3,
   "metadata": {},
   "outputs": [
    {
     "name": "stdout",
     "output_type": "stream",
     "text": [
      "Collecting update\n",
      "  Downloading update-0.0.1-py2.py3-none-any.whl.metadata (696 bytes)\n",
      "Collecting numpy\n",
      "  Downloading numpy-2.0.1-cp312-cp312-win_amd64.whl.metadata (60 kB)\n",
      "     ---------------------------------------- 0.0/60.9 kB ? eta -:--:--\n",
      "     ------------------------- ------------ 41.0/60.9 kB 991.0 kB/s eta 0:00:01\n",
      "     ---------------------------------------- 60.9/60.9 kB 1.1 MB/s eta 0:00:00\n",
      "Collecting style==1.1.0 (from update)\n",
      "  Downloading style-1.1.0-py2.py3-none-any.whl.metadata (2.8 kB)\n",
      "Downloading update-0.0.1-py2.py3-none-any.whl (2.9 kB)\n",
      "Downloading style-1.1.0-py2.py3-none-any.whl (6.4 kB)\n",
      "Downloading numpy-2.0.1-cp312-cp312-win_amd64.whl (16.3 MB)\n",
      "   ---------------------------------------- 0.0/16.3 MB ? eta -:--:--\n",
      "   - -------------------------------------- 0.4/16.3 MB 12.9 MB/s eta 0:00:02\n",
      "   -- ------------------------------------- 1.0/16.3 MB 12.2 MB/s eta 0:00:02\n",
      "   --- ------------------------------------ 1.4/16.3 MB 11.4 MB/s eta 0:00:02\n",
      "   ---- ----------------------------------- 2.0/16.3 MB 11.5 MB/s eta 0:00:02\n",
      "   ------ --------------------------------- 2.5/16.3 MB 11.4 MB/s eta 0:00:02\n",
      "   ------- -------------------------------- 3.0/16.3 MB 11.3 MB/s eta 0:00:02\n",
      "   -------- ------------------------------- 3.6/16.3 MB 11.4 MB/s eta 0:00:02\n",
      "   ---------- ----------------------------- 4.1/16.3 MB 11.4 MB/s eta 0:00:02\n",
      "   ----------- ---------------------------- 4.7/16.3 MB 11.5 MB/s eta 0:00:02\n",
      "   ------------ --------------------------- 5.2/16.3 MB 11.4 MB/s eta 0:00:01\n",
      "   ------------ --------------------------- 5.2/16.3 MB 11.2 MB/s eta 0:00:01\n",
      "   ------------ --------------------------- 5.2/16.3 MB 11.2 MB/s eta 0:00:01\n",
      "   ------------- -------------------------- 5.3/16.3 MB 9.0 MB/s eta 0:00:02\n",
      "   -------------- ------------------------- 5.7/16.3 MB 8.9 MB/s eta 0:00:02\n",
      "   --------------- ------------------------ 6.2/16.3 MB 9.0 MB/s eta 0:00:02\n",
      "   ---------------- ----------------------- 6.8/16.3 MB 9.2 MB/s eta 0:00:02\n",
      "   ------------------ --------------------- 7.3/16.3 MB 9.4 MB/s eta 0:00:01\n",
      "   ------------------- -------------------- 7.9/16.3 MB 9.5 MB/s eta 0:00:01\n",
      "   -------------------- ------------------- 8.3/16.3 MB 9.3 MB/s eta 0:00:01\n",
      "   --------------------- ------------------ 8.8/16.3 MB 9.4 MB/s eta 0:00:01\n",
      "   ---------------------- ----------------- 9.3/16.3 MB 9.4 MB/s eta 0:00:01\n",
      "   ------------------------ --------------- 9.9/16.3 MB 9.6 MB/s eta 0:00:01\n",
      "   ------------------------- -------------- 10.4/16.3 MB 9.6 MB/s eta 0:00:01\n",
      "   -------------------------- ------------- 10.9/16.3 MB 9.6 MB/s eta 0:00:01\n",
      "   ---------------------------- ----------- 11.4/16.3 MB 9.6 MB/s eta 0:00:01\n",
      "   ----------------------------- ---------- 11.9/16.3 MB 9.6 MB/s eta 0:00:01\n",
      "   ------------------------------ --------- 12.3/16.3 MB 9.6 MB/s eta 0:00:01\n",
      "   ------------------------------- -------- 12.8/16.3 MB 9.5 MB/s eta 0:00:01\n",
      "   -------------------------------- ------- 13.4/16.3 MB 9.5 MB/s eta 0:00:01\n",
      "   ---------------------------------- ----- 13.9/16.3 MB 9.5 MB/s eta 0:00:01\n",
      "   ----------------------------------- ---- 14.5/16.3 MB 9.5 MB/s eta 0:00:01\n",
      "   ------------------------------------- -- 15.1/16.3 MB 9.5 MB/s eta 0:00:01\n",
      "   -------------------------------------- - 15.6/16.3 MB 10.9 MB/s eta 0:00:01\n",
      "   ---------------------------------------  16.1/16.3 MB 11.1 MB/s eta 0:00:01\n",
      "   ---------------------------------------- 16.3/16.3 MB 10.7 MB/s eta 0:00:00\n",
      "Installing collected packages: style, update, numpy\n",
      "Successfully installed numpy-2.0.1 style-1.1.0 update-0.0.1\n"
     ]
    },
    {
     "name": "stderr",
     "output_type": "stream",
     "text": [
      "\n",
      "[notice] A new release of pip is available: 24.0 -> 24.2\n",
      "[notice] To update, run: python.exe -m pip install --upgrade pip\n"
     ]
    }
   ],
   "source": [
    "!pip install update numpy"
   ]
  },
  {
   "cell_type": "code",
   "execution_count": 5,
   "metadata": {},
   "outputs": [],
   "source": [
    "import numpy as np # 보통 np로 줄여씀"
   ]
  },
  {
   "cell_type": "code",
   "execution_count": 9,
   "metadata": {},
   "outputs": [],
   "source": [
    "lst = [1,2,3,4]"
   ]
  },
  {
   "cell_type": "code",
   "execution_count": 23,
   "metadata": {},
   "outputs": [
    {
     "data": {
      "text/plain": [
       "array([1, 2, 3, 4])"
      ]
     },
     "execution_count": 23,
     "metadata": {},
     "output_type": "execute_result"
    }
   ],
   "source": [
    "# 배열 생성\n",
    "arr1 = np.array(lst) # == np.array([1,2,3,4])\n",
    "arr1 # numpy 배열"
   ]
  },
  {
   "cell_type": "code",
   "execution_count": 22,
   "metadata": {},
   "outputs": [
    {
     "data": {
      "text/plain": [
       "(4,)"
      ]
     },
     "execution_count": 22,
     "metadata": {},
     "output_type": "execute_result"
    }
   ],
   "source": [
    "# 배열의 구조\n",
    "arr1.shape # 1차원 배열, 크기 4"
   ]
  },
  {
   "cell_type": "code",
   "execution_count": 16,
   "metadata": {},
   "outputs": [
    {
     "data": {
      "text/plain": [
       "array([[1, 2, 3, 4],\n",
       "       [5, 6, 7, 8]])"
      ]
     },
     "execution_count": 16,
     "metadata": {},
     "output_type": "execute_result"
    }
   ],
   "source": [
    "# 2차원 배열\n",
    "arr2 = np.array([[1,2,3,4,],[5,6,7,8]])\n",
    "arr2"
   ]
  },
  {
   "cell_type": "code",
   "execution_count": 17,
   "metadata": {},
   "outputs": [
    {
     "data": {
      "text/plain": [
       "(2, 4)"
      ]
     },
     "execution_count": 17,
     "metadata": {},
     "output_type": "execute_result"
    }
   ],
   "source": [
    "arr2.shape  # 2차원 배열, 2행 4열"
   ]
  },
  {
   "cell_type": "code",
   "execution_count": 19,
   "metadata": {},
   "outputs": [
    {
     "data": {
      "text/plain": [
       "array([[1, 2, 3, 4]])"
      ]
     },
     "execution_count": 19,
     "metadata": {},
     "output_type": "execute_result"
    }
   ],
   "source": [
    "arr3 = np.array([[1,2,3,4]])\n",
    "arr3"
   ]
  },
  {
   "cell_type": "code",
   "execution_count": 24,
   "metadata": {},
   "outputs": [
    {
     "data": {
      "text/plain": [
       "(1, 4)"
      ]
     },
     "execution_count": 24,
     "metadata": {},
     "output_type": "execute_result"
    }
   ],
   "source": [
    "arr3.shape"
   ]
  },
  {
   "cell_type": "code",
   "execution_count": 27,
   "metadata": {},
   "outputs": [
    {
     "data": {
      "text/plain": [
       "(2, 4, 4)"
      ]
     },
     "execution_count": 27,
     "metadata": {},
     "output_type": "execute_result"
    }
   ],
   "source": [
    "arr4 = np.array([[[1,2,3,4],[5,6,7,8],[9,10,11,12],[13,14,15,16]],[[1,2,3,4],[5,6,7,8],[9,10,11,12],[13,14,15,16]]])\n",
    "arr4.shape"
   ]
  },
  {
   "cell_type": "code",
   "execution_count": 29,
   "metadata": {},
   "outputs": [
    {
     "data": {
      "text/plain": [
       "dtype('int64')"
      ]
     },
     "execution_count": 29,
     "metadata": {},
     "output_type": "execute_result"
    }
   ],
   "source": [
    "# 넘파이 데이터 타입 확인\n",
    "arr3.dtype"
   ]
  },
  {
   "cell_type": "markdown",
   "metadata": {},
   "source": [
    "- 넘파이 자료형\n",
    "    - 부호 정수 : int8, int16, int32, int64\n",
    "    - 무부호 정수 : uint8, uint16, uint32, uint64\n",
    "    - 실수 : float8, float16, float32, float64\n",
    "    - 복소수 : complex8, complex16, complex32, complex64\n",
    "    - 문자열 : string_\n",
    "    - 불린 : bool\n",
    "    - 유니코드 : unicode_\n",
    "    - 파이썬오브젝트 : object"
   ]
  },
  {
   "cell_type": "markdown",
   "metadata": {},
   "source": [
    "- 넘파이 배열 정의"
   ]
  },
  {
   "cell_type": "code",
   "execution_count": 30,
   "metadata": {},
   "outputs": [
    {
     "data": {
      "text/plain": [
       "array([0., 0., 0., 0., 0., 0., 0., 0., 0., 0.])"
      ]
     },
     "execution_count": 30,
     "metadata": {},
     "output_type": "execute_result"
    }
   ],
   "source": [
    "# 1차원 요소가 10개가 모두 0인 배열 초기화\n",
    "np.zeros(10)"
   ]
  },
  {
   "cell_type": "code",
   "execution_count": 31,
   "metadata": {},
   "outputs": [
    {
     "data": {
      "text/plain": [
       "array([[0., 0., 0., 0.],\n",
       "       [0., 0., 0., 0.]])"
      ]
     },
     "execution_count": 31,
     "metadata": {},
     "output_type": "execute_result"
    }
   ],
   "source": [
    "# 2차원 2행 4열 모두가 0인 배열 초기화\n",
    "np.zeros((2,4))"
   ]
  },
  {
   "cell_type": "code",
   "execution_count": 32,
   "metadata": {},
   "outputs": [
    {
     "data": {
      "text/plain": [
       "array([1., 1., 1., 1., 1., 1., 1., 1., 1., 1.])"
      ]
     },
     "execution_count": 32,
     "metadata": {},
     "output_type": "execute_result"
    }
   ],
   "source": [
    "# 1차원 요소가 10개가 모두 1인 배열 초기화\n",
    "np.ones(10)"
   ]
  },
  {
   "cell_type": "code",
   "execution_count": 33,
   "metadata": {},
   "outputs": [
    {
     "data": {
      "text/plain": [
       "array([[1., 1., 1., 1.],\n",
       "       [1., 1., 1., 1.]])"
      ]
     },
     "execution_count": 33,
     "metadata": {},
     "output_type": "execute_result"
    }
   ],
   "source": [
    "# 2차원 2행 4열 모두가 1인 배열 초기화\n",
    "np.ones((2,4))"
   ]
  },
  {
   "cell_type": "code",
   "execution_count": 40,
   "metadata": {},
   "outputs": [
    {
     "name": "stdout",
     "output_type": "stream",
     "text": [
      "[3 4 5 6 7 8 9] [3 5 7 9]\n"
     ]
    }
   ],
   "source": [
    "# 3부터 1씩 증가, 9가 마지막인 배열 초기화\n",
    "arr1 = np.arange(3, 10)\n",
    "arr2 = np.arange(3, 10, 2)\n",
    "print(arr1, arr2)"
   ]
  },
  {
   "cell_type": "markdown",
   "metadata": {},
   "source": [
    "- 사용하는 이유"
   ]
  },
  {
   "cell_type": "code",
   "execution_count": 53,
   "metadata": {},
   "outputs": [],
   "source": [
    "## 대량리스트 생성\n",
    "pyList = list(range(10_000_000))\n",
    "npList = np.arange(10_000_000)"
   ]
  },
  {
   "cell_type": "code",
   "execution_count": 54,
   "metadata": {},
   "outputs": [
    {
     "data": {
      "text/plain": [
       "10000000"
      ]
     },
     "execution_count": 54,
     "metadata": {},
     "output_type": "execute_result"
    }
   ],
   "source": [
    "len(pyList)"
   ]
  },
  {
   "cell_type": "code",
   "execution_count": 55,
   "metadata": {},
   "outputs": [
    {
     "data": {
      "text/plain": [
       "(10000000,)"
      ]
     },
     "execution_count": 55,
     "metadata": {},
     "output_type": "execute_result"
    }
   ],
   "source": [
    "npList.shape"
   ]
  },
  {
   "cell_type": "code",
   "execution_count": 56,
   "metadata": {},
   "outputs": [
    {
     "name": "stdout",
     "output_type": "stream",
     "text": [
      "1.95 s ± 64.7 ms per loop (mean ± std. dev. of 7 runs, 1 loop each)\n"
     ]
    }
   ],
   "source": [
    "## 파이썬 리스트 계산 처리 시간\n",
    "%timeit for _ in range (10) : pyList2 = pyList * 2"
   ]
  },
  {
   "cell_type": "code",
   "execution_count": 58,
   "metadata": {},
   "outputs": [
    {
     "name": "stdout",
     "output_type": "stream",
     "text": [
      "250 ms ± 10.1 ms per loop (mean ± std. dev. of 7 runs, 1 loop each)\n"
     ]
    }
   ],
   "source": [
    "## 넘파이 배열 계산처리 시간\n",
    "%timeit for _ in range(10) : npList2 = npList * 2"
   ]
  },
  {
   "cell_type": "markdown",
   "metadata": {},
   "source": [
    "- 넘파이로 수치 계산을 하면 시간을 절약!"
   ]
  }
 ],
 "metadata": {
  "kernelspec": {
   "display_name": "Python 3",
   "language": "python",
   "name": "python3"
  },
  "language_info": {
   "codemirror_mode": {
    "name": "ipython",
    "version": 3
   },
   "file_extension": ".py",
   "mimetype": "text/x-python",
   "name": "python",
   "nbconvert_exporter": "python",
   "pygments_lexer": "ipython3",
   "version": "3.12.3"
  }
 },
 "nbformat": 4,
 "nbformat_minor": 2
}
