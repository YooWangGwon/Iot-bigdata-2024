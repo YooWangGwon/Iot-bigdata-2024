{
 "cells": [
  {
   "cell_type": "markdown",
   "metadata": {},
   "source": [
    "### PyTorch\n",
    "\n",
    "<img src=\"https://upload.wikimedia.org/wikipedia/commons/thumb/c/c6/PyTorch_logo_black.svg/1920px-PyTorch_logo_black.svg.png\"\n",
    "     width=\"300\" style=\"background:white\">\n",
    "\n",
    "- 공식 사이트 : https://pytorch.org/\n",
    "- 한글 공식 사이트 : https://pytorch.kr/\n",
    "- 공식 사이트의 튜토리얼 한글화 사이트 : https://tutorials.pytorch.kr/"
   ]
  },
  {
   "cell_type": "markdown",
   "metadata": {},
   "source": [
    "#### PyTorch 설치\n",
    "- CPU 설치\n",
    "    - 간단하지만, 그래픽 가속 사용 불가\n",
    "    - 기본 파이썬 환경 설치\n",
    "\n",
    "- GPU 설치\n",
    "    - 가상환경 생성, 설치\n",
    "\n",
    "##### CPU설치\n",
    "- https://pytorch.org/get-started/locally/ 에 나와있는 Note에서 해당 플랫폼 종류 선택, 명령어 복사 실행\n",
    "```python\n",
    "!pip install torch torchvision torchaudio\n",
    "```"
   ]
  },
  {
   "cell_type": "code",
   "execution_count": null,
   "metadata": {},
   "outputs": [],
   "source": [
    "!pip install torch torchvision torchaudio"
   ]
  },
  {
   "cell_type": "code",
   "execution_count": 3,
   "metadata": {},
   "outputs": [],
   "source": [
    "import torch"
   ]
  },
  {
   "cell_type": "code",
   "execution_count": 4,
   "metadata": {},
   "outputs": [
    {
     "data": {
      "text/plain": [
       "'2.4.0+cpu'"
      ]
     },
     "execution_count": 4,
     "metadata": {},
     "output_type": "execute_result"
    }
   ],
   "source": [
    "## 2.4.0+cpu = CPU용 설치\n",
    "torch.__version__"
   ]
  },
  {
   "cell_type": "markdown",
   "metadata": {},
   "source": [
    "##### PyTorch GPU 설치\n",
    "- NVIDIA GPU에서만 가능, CUDA로 되어있기 때문\n",
    "- GPU 설치가 가능한지 먼저 확인\n",
    "\n",
    "```python\n",
    "!nvidia-smi\n",
    "```"
   ]
  },
  {
   "cell_type": "code",
   "execution_count": 5,
   "metadata": {},
   "outputs": [
    {
     "name": "stdout",
     "output_type": "stream",
     "text": [
      "Tue Aug  6 12:32:05 2024       \n",
      "+---------------------------------------------------------------------------------------+\n",
      "| NVIDIA-SMI 536.23                 Driver Version: 536.23       CUDA Version: 12.2     |\n",
      "|-----------------------------------------+----------------------+----------------------+\n",
      "| GPU  Name                     TCC/WDDM  | Bus-Id        Disp.A | Volatile Uncorr. ECC |\n",
      "| Fan  Temp   Perf          Pwr:Usage/Cap |         Memory-Usage | GPU-Util  Compute M. |\n",
      "|                                         |                      |               MIG M. |\n",
      "|=========================================+======================+======================|\n",
      "|   0  NVIDIA GeForce GTX 1650      WDDM  | 00000000:01:00.0  On |                  N/A |\n",
      "| 50%   33C    P8               8W /  75W |    786MiB /  4096MiB |     10%      Default |\n",
      "|                                         |                      |                  N/A |\n",
      "+-----------------------------------------+----------------------+----------------------+\n",
      "                                                                                         \n",
      "+---------------------------------------------------------------------------------------+\n",
      "| Processes:                                                                            |\n",
      "|  GPU   GI   CI        PID   Type   Process name                            GPU Memory |\n",
      "|        ID   ID                                                             Usage      |\n",
      "|=======================================================================================|\n",
      "|    0   N/A  N/A      3820    C+G   ...5n1h2txyewy\\ShellExperienceHost.exe    N/A      |\n",
      "|    0   N/A  N/A      6200    C+G   ...r\\AppData\\Roaming\\Zoom\\bin\\Zoom.exe    N/A      |\n",
      "|    0   N/A  N/A      6328    C+G   ...n\\126.0.2592.113\\msedgewebview2.exe    N/A      |\n",
      "|    0   N/A  N/A      7632    C+G   C:\\Windows\\explorer.exe                   N/A      |\n",
      "|    0   N/A  N/A      7800    C+G   ...nt.CBS_cw5n1h2txyewy\\SearchHost.exe    N/A      |\n",
      "|    0   N/A  N/A      8000    C+G   ...tionsPlus\\logioptionsplus_agent.exe    N/A      |\n",
      "|    0   N/A  N/A      8292    C+G   ...2txyewy\\StartMenuExperienceHost.exe    N/A      |\n",
      "|    0   N/A  N/A      8956    C+G   ...Desktop\\app-3.4.2\\GitHubDesktop.exe    N/A      |\n",
      "|    0   N/A  N/A      9040    C+G   ...ekyb3d8bbwe\\PhoneExperienceHost.exe    N/A      |\n",
      "|    0   N/A  N/A      9756    C+G   ...siveControlPanel\\SystemSettings.exe    N/A      |\n",
      "|    0   N/A  N/A     11352    C+G   ...CBS_cw5n1h2txyewy\\TextInputHost.exe    N/A      |\n",
      "|    0   N/A  N/A     12164    C+G   ...mpt_builder\\LogiAiPromptBuilder.exe    N/A      |\n",
      "|    0   N/A  N/A     15424    C+G   ....5536.0_x64__8j3eq9eme6ctt\\IGCC.exe    N/A      |\n",
      "|    0   N/A  N/A     16316    C+G   ...n\\126.0.2592.113\\msedgewebview2.exe    N/A      |\n",
      "|    0   N/A  N/A     16448    C+G   C:\\DEV\\IDE\\Microsoft VS Code\\Code.exe     N/A      |\n",
      "|    0   N/A  N/A     18128    C+G   ...n\\126.0.2592.113\\msedgewebview2.exe    N/A      |\n",
      "+---------------------------------------------------------------------------------------+\n"
     ]
    }
   ],
   "source": [
    "!nvidia-smi"
   ]
  },
  {
   "cell_type": "markdown",
   "metadata": {},
   "source": [
    "##### CUDA Version 12.2\n",
    "- CUDA(Compute Unified Device Architecture) - NVIDIA에서 그래픽카드 가속을 위해 만든 기술\n",
    "- https://ko.wikipedia.co.kr\n",
    "\n",
    "##### CUDA 설치\n",
    "- CUDA Toolkit 12.2\n",
    "    - https://developer.nvidia.com/cuda-12-2-2-download-archive?target_os=Windows&target_arch=x86_64&target_version=11&target_type=exe_local\n",
    "- cuDNN(Deep Natural Network)\n",
    "    - CUDA Toolkit에 맞는 버전 확인\n",
    "    - https://developer.nvidia.com/rdp/cudnn-archive 확인 후 다운로드(단, 로그인 필수)"
   ]
  },
  {
   "cell_type": "markdown",
   "metadata": {},
   "source": [
    "#### GPU용 파이썬 가상환경 만들기\n",
    "- GPU PyTorch는 설치 로그를 봐야하기 때문에 명령프롬프트에서 진행\n",
    "\n",
    "- 터미널 오픈\n",
    "    - virtualenv 확인\n",
    "    - pip install virtualenv\n",
    "    - virtualenv gpu_env\n",
    "- 가상환경 활성화\n",
    "    - cd gpu_env\\Scripts\\activate\n",
    "\n",
    "- PyTorch GPU 설치\n",
    "    - PyTorch GetStarted 사이트에서 확인 후 명령어\n",
    "    - pip install torch torchvision torchaudio --index-url https://download.pytorch.org/whl/cu121"
   ]
  },
  {
   "cell_type": "code",
   "execution_count": 1,
   "metadata": {},
   "outputs": [],
   "source": [
    "import torch"
   ]
  },
  {
   "cell_type": "code",
   "execution_count": 2,
   "metadata": {},
   "outputs": [
    {
     "data": {
      "text/plain": [
       "'2.4.0+cu121'"
      ]
     },
     "execution_count": 2,
     "metadata": {},
     "output_type": "execute_result"
    }
   ],
   "source": [
    "## 2.4.0+cu121 --> CUDA 12.1 버전의 PyTorch\n",
    "torch.__version__"
   ]
  },
  {
   "cell_type": "code",
   "execution_count": 3,
   "metadata": {},
   "outputs": [
    {
     "data": {
      "text/plain": [
       "True"
      ]
     },
     "execution_count": 3,
     "metadata": {},
     "output_type": "execute_result"
    }
   ],
   "source": [
    "## CUDA 사용가능 여부 확인\n",
    "torch.cuda.is_available()"
   ]
  },
  {
   "cell_type": "code",
   "execution_count": 4,
   "metadata": {},
   "outputs": [
    {
     "data": {
      "text/plain": [
       "'NVIDIA GeForce GTX 1650'"
      ]
     },
     "execution_count": 4,
     "metadata": {},
     "output_type": "execute_result"
    }
   ],
   "source": [
    "## 설치된 CUDA가 동작하는 그래픽카드 정보확인\n",
    "torch.cuda.get_device_name(0)"
   ]
  },
  {
   "cell_type": "markdown",
   "metadata": {},
   "source": [
    "##### 이제부터 GPU 가속으로 PyTorch(텐서플로 가능) 딥러닝을 할 수 있음"
   ]
  }
 ],
 "metadata": {
  "kernelspec": {
   "display_name": "Python 3",
   "language": "python",
   "name": "python3"
  },
  "language_info": {
   "codemirror_mode": {
    "name": "ipython",
    "version": 3
   },
   "file_extension": ".py",
   "mimetype": "text/x-python",
   "name": "python",
   "nbconvert_exporter": "python",
   "pygments_lexer": "ipython3",
   "version": "3.12.3"
  }
 },
 "nbformat": 4,
 "nbformat_minor": 2
}
